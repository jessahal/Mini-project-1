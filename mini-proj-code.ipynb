{
 "cells": [
  {
   "cell_type": "code",
   "execution_count": 2,
   "id": "initial_id",
   "metadata": {
    "collapsed": true,
    "ExecuteTime": {
     "end_time": "2024-10-03T17:11:59.830469900Z",
     "start_time": "2024-10-03T17:11:58.323181300Z"
    }
   },
   "outputs": [],
   "source": [
    "import re\n",
    "import time\n",
    "import pandas as pd\n",
    "import numpy as np\n",
    "import seaborn as sns\n",
    "from sklearn.pipeline import Pipeline\n",
    "from sklearn.impute import SimpleImputer\n",
    "from sklearn.linear_model import Lasso, LassoCV, Ridge, RidgeCV,ElasticNet, ElasticNetCV\n",
    "from sklearn.neighbors import KNeighborsRegressor\n",
    "from sklearn.preprocessing import StandardScaler, OneHotEncoder, PolynomialFeatures\n",
    "from sklearn.model_selection import train_test_split, cross_val_score, LeaveOneOut\n",
    "from sklearn.metrics import root_mean_squared_error\n",
    "from sklearn.compose import ColumnTransformer\n",
    "from sklearn.feature_selection import SelectPercentile, f_regression\n",
    "import matplotlib.pyplot as plt\n",
    "\n",
    "test = pd.read_csv('test.csv')\n",
    "train = pd.read_csv('train.csv')"
   ]
  },
  {
   "cell_type": "markdown",
   "source": [
    "### Choosing Variables"
   ],
   "metadata": {
    "collapsed": false
   },
   "id": "93fdf1a2615039dd"
  },
  {
   "cell_type": "code",
   "execution_count": 3,
   "outputs": [],
   "source": [
    "x = train.drop(columns = \"price\")\n",
    "y = train['price'] \n",
    "\n",
    "# Get numeric variables :)\n",
    "x_num = x.select_dtypes(include = 'number')\n",
    "\n",
    "# Get rid of dumb variables\n",
    "x_num = x_num.drop(columns = ['bedrooms', 'host_id'])\n",
    "\n",
    "x_nums = ['host_listings_count', 'accommodates', 'number_of_reviews', 'review_scores_rating', 'review_scores_location']\n",
    "\n",
    "x_cat = ['property_type', 'neighbourhood_cleansed', 'host_is_superhost']\n",
    "\n",
    "x_full = x[['host_listings_count', 'accommodates', 'number_of_reviews', 'review_scores_rating', 'review_scores_location','property_type', 'neighbourhood_cleansed', 'host_is_superhost']]\n",
    "\n",
    "# Split training data into train/test :)\n",
    "x_train, x_test, y_train, y_test = train_test_split(x_full, y, test_size= 0.2, random_state=317)"
   ],
   "metadata": {
    "collapsed": false,
    "ExecuteTime": {
     "end_time": "2024-10-03T17:12:02.588698400Z",
     "start_time": "2024-10-03T17:12:02.565258900Z"
    }
   },
   "id": "606c950062da6175"
  },
  {
   "cell_type": "markdown",
   "source": [
    "#### PIPELINES FOR THE WIN"
   ],
   "metadata": {
    "collapsed": false
   },
   "id": "c693bd0a23c0d8ac"
  },
  {
   "cell_type": "markdown",
   "source": [
    "#### KNN Pipeline"
   ],
   "metadata": {
    "collapsed": false
   },
   "id": "3edee9358fa6902c"
  },
  {
   "cell_type": "code",
   "execution_count": 4,
   "outputs": [
    {
     "data": {
      "text/plain": "1271.8671457994592"
     },
     "execution_count": 4,
     "metadata": {},
     "output_type": "execute_result"
    }
   ],
   "source": [
    "\n",
    "# Build Pipeline\n",
    "num_pipe = Pipeline([\n",
    "    ('impute', SimpleImputer(strategy= 'mean')),\n",
    "    ('scale', StandardScaler()),\n",
    "    ('poly', PolynomialFeatures(degree=2, include_bias=False))\n",
    "])\n",
    "\n",
    "cat_pipe = Pipeline([\n",
    "    ('impute', SimpleImputer(strategy='most_frequent')),\n",
    "    ('encode', OneHotEncoder(sparse_output= False, handle_unknown='ignore')),\n",
    "    ('select', SelectPercentile(f_regression, percentile = 20))\n",
    "])\n",
    "\n",
    "preprocessor = ColumnTransformer([\n",
    "    ('num', num_pipe, x_nums),\n",
    "    ('cat', cat_pipe, x_cat)\n",
    "])\n",
    "\n",
    "pipe = Pipeline([\n",
    "    ('preprocessor', preprocessor),\n",
    "    ('model', KNeighborsRegressor(n_neighbors= 60, weights='distance'))\n",
    "])\n",
    "# Fit pipeline to training data\n",
    "pipe.fit(x_train, y_train)\n",
    "\n",
    "# Report test MSE\n",
    "y_preds = pipe.predict(x_test)\n",
    "root_mean_squared_error(y_test, y_preds)"
   ],
   "metadata": {
    "collapsed": false,
    "ExecuteTime": {
     "end_time": "2024-10-03T17:12:05.926180400Z",
     "start_time": "2024-10-03T17:12:05.064943900Z"
    }
   },
   "id": "9a233a33f2230c1e"
  },
  {
   "cell_type": "markdown",
   "source": [
    "#### Lasso Pipeline"
   ],
   "metadata": {
    "collapsed": false
   },
   "id": "50fccff26aae0355"
  },
  {
   "cell_type": "code",
   "execution_count": 8,
   "outputs": [
    {
     "data": {
      "text/plain": "1230.5487384321339"
     },
     "execution_count": 8,
     "metadata": {},
     "output_type": "execute_result"
    }
   ],
   "source": [
    "pipe2 = Pipeline([\n",
    "    ('preprocessor', preprocessor),\n",
    "    ('lasso', LassoCV(max_iter=10000))\n",
    "])\n",
    "# Fit pipeline to training data\n",
    "pipe2.fit(x_train, y_train)\n",
    "\n",
    "# Report test MSE\n",
    "y_preds2 = pipe2.predict(x_test)\n",
    "root_mean_squared_error(y_test, y_preds2)"
   ],
   "metadata": {
    "collapsed": false,
    "ExecuteTime": {
     "end_time": "2024-10-03T17:36:17.684247400Z",
     "start_time": "2024-10-03T17:36:01.651295800Z"
    }
   },
   "id": "5683b0df7e212332"
  },
  {
   "cell_type": "code",
   "execution_count": 14,
   "outputs": [
    {
     "data": {
      "text/plain": "array([ 1.74380287e+02,  4.32487166e+01, -1.88839852e+02, -3.00433289e+01,\n        4.39650330e+01, -8.84783862e+01, -2.41918863e+00, -4.21327613e+02,\n        1.48840780e+01, -1.26226609e+01,  1.08906002e+01, -4.91136660e-01,\n        4.35827671e+01, -9.95082772e+00,  8.99359986e+00,  1.44556746e+02,\n       -1.90940529e+01, -5.19797631e+00, -4.18181472e+00,  2.06887234e+00,\n       -1.50955317e+01,  1.99166536e+01,  1.83236529e+02,  0.00000000e+00,\n        8.44027853e+01,  7.39652401e+02, -0.00000000e+00, -6.08885655e+00,\n       -6.54485825e+00, -4.64580690e+01, -1.86468423e+02, -0.00000000e+00,\n        0.00000000e+00, -7.90409263e+00,  1.45118837e+03,  1.09002972e+02,\n       -3.76328389e+01, -6.51392563e+02, -1.99780332e+01, -0.00000000e+00,\n        3.89560553e+02, -0.00000000e+00,  1.47858347e+02, -6.85852995e+01,\n        4.10809461e+01, -2.17999507e+01,  4.49557134e+02,  9.11097073e+02,\n       -0.00000000e+00,  5.70380634e+02,  1.08119191e+03, -1.81109527e+01,\n       -1.20584718e+02, -1.64802158e+01, -4.94523805e+01,  2.14190073e+02,\n        7.56103855e+01, -1.84050100e+01, -0.00000000e+00,  0.00000000e+00,\n       -0.00000000e+00,  1.16291768e+03, -3.45227418e+00, -4.04592190e+01,\n       -8.80138302e+01, -6.13635255e+01, -4.69311886e+01, -5.93366014e+01,\n        1.53497522e+02, -5.73884833e+01, -3.92265439e+01, -0.00000000e+00,\n        9.87024158e+01, -2.36353741e-11])"
     },
     "execution_count": 14,
     "metadata": {},
     "output_type": "execute_result"
    }
   ],
   "source": [
    "# After fitting LassoCV model\n",
    "pipe2.named_steps['lasso'].coef_"
   ],
   "metadata": {
    "collapsed": false,
    "ExecuteTime": {
     "end_time": "2024-10-03T17:40:58.054084700Z",
     "start_time": "2024-10-03T17:40:58.038112600Z"
    }
   },
   "id": "f7e109b0348a440e"
  },
  {
   "cell_type": "code",
   "execution_count": 13,
   "outputs": [
    {
     "data": {
      "text/plain": "Index(['host_listings_count', 'accommodates', 'number_of_reviews',\n       'review_scores_rating', 'review_scores_location', 'property_type',\n       'neighbourhood_cleansed', 'host_is_superhost'],\n      dtype='object')"
     },
     "execution_count": 13,
     "metadata": {},
     "output_type": "execute_result"
    }
   ],
   "source": [
    "x_train.columns"
   ],
   "metadata": {
    "collapsed": false,
    "ExecuteTime": {
     "end_time": "2024-10-03T17:40:55.483647Z",
     "start_time": "2024-10-03T17:40:55.475358900Z"
    }
   },
   "id": "5cf4e4d1ceaa2e92"
  },
  {
   "cell_type": "markdown",
   "source": [
    "### Actual Test Set :)"
   ],
   "metadata": {
    "collapsed": false
   },
   "id": "8b7b0805a7d36592"
  },
  {
   "cell_type": "code",
   "execution_count": 6,
   "outputs": [
    {
     "data": {
      "text/plain": "      Id        Price\n0  PSJEN   -94.857539\n1  PVZW7    83.672983\n2  EJLAM  1004.647578\n3  SDHPB  -595.160199\n4  MJGYX   443.447546",
      "text/html": "<div>\n<style scoped>\n    .dataframe tbody tr th:only-of-type {\n        vertical-align: middle;\n    }\n\n    .dataframe tbody tr th {\n        vertical-align: top;\n    }\n\n    .dataframe thead th {\n        text-align: right;\n    }\n</style>\n<table border=\"1\" class=\"dataframe\">\n  <thead>\n    <tr style=\"text-align: right;\">\n      <th></th>\n      <th>Id</th>\n      <th>Price</th>\n    </tr>\n  </thead>\n  <tbody>\n    <tr>\n      <th>0</th>\n      <td>PSJEN</td>\n      <td>-94.857539</td>\n    </tr>\n    <tr>\n      <th>1</th>\n      <td>PVZW7</td>\n      <td>83.672983</td>\n    </tr>\n    <tr>\n      <th>2</th>\n      <td>EJLAM</td>\n      <td>1004.647578</td>\n    </tr>\n    <tr>\n      <th>3</th>\n      <td>SDHPB</td>\n      <td>-595.160199</td>\n    </tr>\n    <tr>\n      <th>4</th>\n      <td>MJGYX</td>\n      <td>443.447546</td>\n    </tr>\n  </tbody>\n</table>\n</div>"
     },
     "execution_count": 6,
     "metadata": {},
     "output_type": "execute_result"
    }
   ],
   "source": [
    "test_small = test[['host_listings_count', 'accommodates', 'number_of_reviews', 'review_scores_rating', 'review_scores_location','property_type', 'neighbourhood_cleansed', 'host_is_superhost']]\n",
    "predictions = pipe2.predict(test_small)\n",
    "\n",
    "output = pd.DataFrame({\n",
    "    'Id': test[\"Id\"],\n",
    "    \"Price\": predictions\n",
    "})\n",
    "\n",
    "# Save the DataFrame to CSV\n",
    "output.to_csv('JH-predicted_prices.csv', index=False)\n",
    "\n",
    "output.head()"
   ],
   "metadata": {
    "collapsed": false,
    "ExecuteTime": {
     "end_time": "2024-10-03T17:12:24.879607400Z",
     "start_time": "2024-10-03T17:12:24.834023Z"
    }
   },
   "id": "feae72330f9ad0d9"
  }
 ],
 "metadata": {
  "kernelspec": {
   "display_name": "Python 3",
   "language": "python",
   "name": "python3"
  },
  "language_info": {
   "codemirror_mode": {
    "name": "ipython",
    "version": 2
   },
   "file_extension": ".py",
   "mimetype": "text/x-python",
   "name": "python",
   "nbconvert_exporter": "python",
   "pygments_lexer": "ipython2",
   "version": "2.7.6"
  }
 },
 "nbformat": 4,
 "nbformat_minor": 5
}
