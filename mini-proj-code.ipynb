{
 "cells": [
  {
   "cell_type": "code",
   "execution_count": 36,
   "id": "initial_id",
   "metadata": {
    "collapsed": true,
    "ExecuteTime": {
     "end_time": "2024-09-26T19:22:43.575634100Z",
     "start_time": "2024-09-26T19:22:41.614894400Z"
    }
   },
   "outputs": [],
   "source": [
    "import re\n",
    "import time\n",
    "import pandas as pd\n",
    "import numpy as np\n",
    "from sklearn.linear_model import Lasso, LassoCV, Ridge, RidgeCV,ElasticNet, ElasticNetCV\n",
    "from sklearn.neighbors import KNeighborsRegressor\n",
    "from sklearn.preprocessing import StandardScaler\n",
    "from sklearn.model_selection import train_test_split, cross_val_score, LeaveOneOut\n",
    "from sklearn.metrics import root_mean_squared_error\n",
    "from sklearn.feature_selection import SelectKBest, f_regression\n",
    "import matplotlib.pyplot as plt\n",
    "\n",
    "test = pd.read_csv('test.csv')\n",
    "train = pd.read_csv('train.csv')"
   ]
  },
  {
   "cell_type": "markdown",
   "source": [
    "### EDA "
   ],
   "metadata": {
    "collapsed": false
   },
   "id": "93fdf1a2615039dd"
  },
  {
   "cell_type": "code",
   "execution_count": 14,
   "outputs": [
    {
     "name": "stderr",
     "output_type": "stream",
     "text": [
      "C:\\Users\\jessa\\AppData\\Local\\Temp\\ipykernel_49620\\2337613406.py:13: FutureWarning: A value is trying to be set on a copy of a DataFrame or Series through chained assignment using an inplace method.\n",
      "The behavior will change in pandas 3.0. This inplace method will never work because the intermediate object on which we are setting values always behaves as a copy.\n",
      "\n",
      "For example, when doing 'df[col].method(value, inplace=True)', try using 'df.method({col: value}, inplace=True)' or df[col] = df[col].method(value) instead, to perform the operation inplace on the original object.\n",
      "\n",
      "\n",
      "  x_vars['host_is_superhost'].fillna(0, inplace = True)\n",
      "C:\\Users\\jessa\\AppData\\Local\\Temp\\ipykernel_49620\\2337613406.py:13: FutureWarning: Downcasting object dtype arrays on .fillna, .ffill, .bfill is deprecated and will change in a future version. Call result.infer_objects(copy=False) instead. To opt-in to the future behavior, set `pd.set_option('future.no_silent_downcasting', True)`\n",
      "  x_vars['host_is_superhost'].fillna(0, inplace = True)\n",
      "C:\\Users\\jessa\\AppData\\Local\\Temp\\ipykernel_49620\\2337613406.py:13: SettingWithCopyWarning: \n",
      "A value is trying to be set on a copy of a slice from a DataFrame\n",
      "\n",
      "See the caveats in the documentation: https://pandas.pydata.org/pandas-docs/stable/user_guide/indexing.html#returning-a-view-versus-a-copy\n",
      "  x_vars['host_is_superhost'].fillna(0, inplace = True)\n",
      "C:\\Users\\jessa\\AppData\\Local\\Temp\\ipykernel_49620\\2337613406.py:14: FutureWarning: A value is trying to be set on a copy of a DataFrame or Series through chained assignment using an inplace method.\n",
      "The behavior will change in pandas 3.0. This inplace method will never work because the intermediate object on which we are setting values always behaves as a copy.\n",
      "\n",
      "For example, when doing 'df[col].method(value, inplace=True)', try using 'df.method({col: value}, inplace=True)' or df[col] = df[col].method(value) instead, to perform the operation inplace on the original object.\n",
      "\n",
      "\n",
      "  x_vars['host_listings_count'].fillna(0, inplace = True)\n",
      "C:\\Users\\jessa\\AppData\\Local\\Temp\\ipykernel_49620\\2337613406.py:14: SettingWithCopyWarning: \n",
      "A value is trying to be set on a copy of a slice from a DataFrame\n",
      "\n",
      "See the caveats in the documentation: https://pandas.pydata.org/pandas-docs/stable/user_guide/indexing.html#returning-a-view-versus-a-copy\n",
      "  x_vars['host_listings_count'].fillna(0, inplace = True)\n",
      "C:\\Users\\jessa\\AppData\\Local\\Temp\\ipykernel_49620\\2337613406.py:15: FutureWarning: A value is trying to be set on a copy of a DataFrame or Series through chained assignment using an inplace method.\n",
      "The behavior will change in pandas 3.0. This inplace method will never work because the intermediate object on which we are setting values always behaves as a copy.\n",
      "\n",
      "For example, when doing 'df[col].method(value, inplace=True)', try using 'df.method({col: value}, inplace=True)' or df[col] = df[col].method(value) instead, to perform the operation inplace on the original object.\n",
      "\n",
      "\n",
      "  x_vars['review_scores_rating'].fillna(train['review_scores_rating'].median(), inplace=True)\n",
      "C:\\Users\\jessa\\AppData\\Local\\Temp\\ipykernel_49620\\2337613406.py:15: SettingWithCopyWarning: \n",
      "A value is trying to be set on a copy of a slice from a DataFrame\n",
      "\n",
      "See the caveats in the documentation: https://pandas.pydata.org/pandas-docs/stable/user_guide/indexing.html#returning-a-view-versus-a-copy\n",
      "  x_vars['review_scores_rating'].fillna(train['review_scores_rating'].median(), inplace=True)\n",
      "C:\\Users\\jessa\\AppData\\Local\\Temp\\ipykernel_49620\\2337613406.py:16: FutureWarning: A value is trying to be set on a copy of a DataFrame or Series through chained assignment using an inplace method.\n",
      "The behavior will change in pandas 3.0. This inplace method will never work because the intermediate object on which we are setting values always behaves as a copy.\n",
      "\n",
      "For example, when doing 'df[col].method(value, inplace=True)', try using 'df.method({col: value}, inplace=True)' or df[col] = df[col].method(value) instead, to perform the operation inplace on the original object.\n",
      "\n",
      "\n",
      "  x_vars['review_scores_location'].fillna(train['review_scores_location'].median(), inplace=True)\n",
      "C:\\Users\\jessa\\AppData\\Local\\Temp\\ipykernel_49620\\2337613406.py:16: SettingWithCopyWarning: \n",
      "A value is trying to be set on a copy of a slice from a DataFrame\n",
      "\n",
      "See the caveats in the documentation: https://pandas.pydata.org/pandas-docs/stable/user_guide/indexing.html#returning-a-view-versus-a-copy\n",
      "  x_vars['review_scores_location'].fillna(train['review_scores_location'].median(), inplace=True)\n"
     ]
    },
    {
     "data": {
      "text/plain": "     host_id  host_is_superhost  host_listings_count   latitude   longitude  \\\n0    4211733                0.0                  1.0  37.815091 -122.237531   \n1    1257432                1.0                 32.0  37.770767 -122.427483   \n2    9219277                1.0                 10.0  37.759270 -122.482580   \n3   13149124                1.0                  3.0  37.410960 -122.121440   \n4  501999278                0.0               1781.0  37.370190 -122.043740   \n\n   accommodates has_availability  review_scores_rating  review_scores_location  \n0             4                1                  4.93                    4.93  \n1             2                1                  5.00                    5.00  \n2             2                1                  5.00                    5.00  \n3             1                1                  5.00                    4.86  \n4             4                1                  4.75                    4.88  ",
      "text/html": "<div>\n<style scoped>\n    .dataframe tbody tr th:only-of-type {\n        vertical-align: middle;\n    }\n\n    .dataframe tbody tr th {\n        vertical-align: top;\n    }\n\n    .dataframe thead th {\n        text-align: right;\n    }\n</style>\n<table border=\"1\" class=\"dataframe\">\n  <thead>\n    <tr style=\"text-align: right;\">\n      <th></th>\n      <th>host_id</th>\n      <th>host_is_superhost</th>\n      <th>host_listings_count</th>\n      <th>latitude</th>\n      <th>longitude</th>\n      <th>accommodates</th>\n      <th>has_availability</th>\n      <th>review_scores_rating</th>\n      <th>review_scores_location</th>\n    </tr>\n  </thead>\n  <tbody>\n    <tr>\n      <th>0</th>\n      <td>4211733</td>\n      <td>0.0</td>\n      <td>1.0</td>\n      <td>37.815091</td>\n      <td>-122.237531</td>\n      <td>4</td>\n      <td>1</td>\n      <td>4.93</td>\n      <td>4.93</td>\n    </tr>\n    <tr>\n      <th>1</th>\n      <td>1257432</td>\n      <td>1.0</td>\n      <td>32.0</td>\n      <td>37.770767</td>\n      <td>-122.427483</td>\n      <td>2</td>\n      <td>1</td>\n      <td>5.00</td>\n      <td>5.00</td>\n    </tr>\n    <tr>\n      <th>2</th>\n      <td>9219277</td>\n      <td>1.0</td>\n      <td>10.0</td>\n      <td>37.759270</td>\n      <td>-122.482580</td>\n      <td>2</td>\n      <td>1</td>\n      <td>5.00</td>\n      <td>5.00</td>\n    </tr>\n    <tr>\n      <th>3</th>\n      <td>13149124</td>\n      <td>1.0</td>\n      <td>3.0</td>\n      <td>37.410960</td>\n      <td>-122.121440</td>\n      <td>1</td>\n      <td>1</td>\n      <td>5.00</td>\n      <td>4.86</td>\n    </tr>\n    <tr>\n      <th>4</th>\n      <td>501999278</td>\n      <td>0.0</td>\n      <td>1781.0</td>\n      <td>37.370190</td>\n      <td>-122.043740</td>\n      <td>4</td>\n      <td>1</td>\n      <td>4.75</td>\n      <td>4.88</td>\n    </tr>\n  </tbody>\n</table>\n</div>"
     },
     "execution_count": 14,
     "metadata": {},
     "output_type": "execute_result"
    }
   ],
   "source": [
    "x = train.drop(columns = \"price\")\n",
    "y = train['price']\n",
    "\n",
    "# Picked some variables I want to test for effect\n",
    "x_vars = train[['host_id', 'host_is_superhost', 'host_listings_count', 'latitude', 'longitude', 'accommodates', 'has_availability', 'review_scores_rating', 'review_scores_location']]\n",
    "\n",
    "# Got just the unit id\n",
    "ids = train['Id']\n",
    "\n",
    "# Changed my boolean vars to 1's and 0's\n",
    "x_vars.loc[:, 'host_is_superhost'] = x_vars['host_is_superhost'].map({'f': 0, 't': 1})\n",
    "x_vars.loc[:, 'has_availability'] = x_vars['has_availability'].map({'f': 0, 't': 1})\n",
    "x_vars['host_is_superhost'].fillna(0, inplace = True)\n",
    "x_vars['host_listings_count'].fillna(0, inplace = True)\n",
    "x_vars['review_scores_rating'].fillna(train['review_scores_rating'].median(), inplace=True)\n",
    "x_vars['review_scores_location'].fillna(train['review_scores_location'].median(), inplace=True)\n",
    "\n",
    "x_vars.head()"
   ],
   "metadata": {
    "collapsed": false,
    "ExecuteTime": {
     "end_time": "2024-09-26T18:58:22.646888600Z",
     "start_time": "2024-09-26T18:58:22.441696500Z"
    }
   },
   "id": "606c950062da6175"
  },
  {
   "cell_type": "markdown",
   "source": [
    "### Feature Selection"
   ],
   "metadata": {
    "collapsed": false
   },
   "id": "39a19b72df91c550"
  },
  {
   "cell_type": "code",
   "execution_count": 17,
   "outputs": [
    {
     "data": {
      "text/plain": "                  feature      score       p-value\n0                 host_id   1.344890  2.461915e-01\n1       host_is_superhost  29.622354  5.330550e-08\n2     host_listings_count   1.166578  2.801226e-01\n3                latitude  10.539054  1.171302e-03\n4               longitude  28.208798  1.104350e-07\n5            accommodates  68.365908  1.468959e-16\n6        has_availability   1.773796  1.829328e-01\n7    review_scores_rating   9.309839  2.283176e-03\n8  review_scores_location   4.449744  3.492271e-02",
      "text/html": "<div>\n<style scoped>\n    .dataframe tbody tr th:only-of-type {\n        vertical-align: middle;\n    }\n\n    .dataframe tbody tr th {\n        vertical-align: top;\n    }\n\n    .dataframe thead th {\n        text-align: right;\n    }\n</style>\n<table border=\"1\" class=\"dataframe\">\n  <thead>\n    <tr style=\"text-align: right;\">\n      <th></th>\n      <th>feature</th>\n      <th>score</th>\n      <th>p-value</th>\n    </tr>\n  </thead>\n  <tbody>\n    <tr>\n      <th>0</th>\n      <td>host_id</td>\n      <td>1.344890</td>\n      <td>2.461915e-01</td>\n    </tr>\n    <tr>\n      <th>1</th>\n      <td>host_is_superhost</td>\n      <td>29.622354</td>\n      <td>5.330550e-08</td>\n    </tr>\n    <tr>\n      <th>2</th>\n      <td>host_listings_count</td>\n      <td>1.166578</td>\n      <td>2.801226e-01</td>\n    </tr>\n    <tr>\n      <th>3</th>\n      <td>latitude</td>\n      <td>10.539054</td>\n      <td>1.171302e-03</td>\n    </tr>\n    <tr>\n      <th>4</th>\n      <td>longitude</td>\n      <td>28.208798</td>\n      <td>1.104350e-07</td>\n    </tr>\n    <tr>\n      <th>5</th>\n      <td>accommodates</td>\n      <td>68.365908</td>\n      <td>1.468959e-16</td>\n    </tr>\n    <tr>\n      <th>6</th>\n      <td>has_availability</td>\n      <td>1.773796</td>\n      <td>1.829328e-01</td>\n    </tr>\n    <tr>\n      <th>7</th>\n      <td>review_scores_rating</td>\n      <td>9.309839</td>\n      <td>2.283176e-03</td>\n    </tr>\n    <tr>\n      <th>8</th>\n      <td>review_scores_location</td>\n      <td>4.449744</td>\n      <td>3.492271e-02</td>\n    </tr>\n  </tbody>\n</table>\n</div>"
     },
     "execution_count": 17,
     "metadata": {},
     "output_type": "execute_result"
    }
   ],
   "source": [
    "selector = SelectKBest(score_func=f_regression, k = 'all')\n",
    "\n",
    "selector.fit(x_vars,y)\n",
    "\n",
    "# Get results\n",
    "var_summary = pd.DataFrame({\n",
    "    'feature' : x_vars.columns,\n",
    "    'score' : selector.scores_,\n",
    "    'p-value' : selector.pvalues_\n",
    "})\n",
    "var_summary"
   ],
   "metadata": {
    "collapsed": false,
    "ExecuteTime": {
     "end_time": "2024-09-26T19:00:56.442183800Z",
     "start_time": "2024-09-26T19:00:56.376812400Z"
    }
   },
   "id": "84953301cc48718f"
  },
  {
   "cell_type": "markdown",
   "source": [
    "#### Variables to Include :)\n",
    "* host_is_superhost\n",
    "* Latitude\n",
    "* Longitude\n",
    "* Accomodates\n",
    "* review_scores_rating\n",
    "* review_scores_location\n"
   ],
   "metadata": {
    "collapsed": false
   },
   "id": "19ae709c8ba8e685"
  },
  {
   "cell_type": "code",
   "execution_count": 30,
   "outputs": [],
   "source": [
    "x1 = x_vars[['host_is_superhost', 'latitude', 'longitude', 'accommodates', 'review_scores_rating', 'review_scores_location']]"
   ],
   "metadata": {
    "collapsed": false,
    "ExecuteTime": {
     "end_time": "2024-09-26T19:14:36.484099300Z",
     "start_time": "2024-09-26T19:14:36.434599100Z"
    }
   },
   "id": "c5af9d5d5f9e1ffa"
  },
  {
   "cell_type": "markdown",
   "source": [
    "#### Fit KNN and predict"
   ],
   "metadata": {
    "collapsed": false
   },
   "id": "eba950ded5739fa8"
  },
  {
   "cell_type": "code",
   "execution_count": 45,
   "outputs": [
    {
     "data": {
      "text/plain": "1317.2068038783077"
     },
     "execution_count": 45,
     "metadata": {},
     "output_type": "execute_result"
    }
   ],
   "source": [
    "# Standardizing some stuff :)\n",
    "scalar = StandardScaler()\n",
    "x1_scale = scalar.fit_transform(x1)\n",
    "\n",
    "# Split into train and test sets\n",
    "x_train, x_test, y_train, y_test = train_test_split(x1_scale, y, test_size= 0.2, random_state=317)\n",
    "\n",
    "knn = KNeighborsRegressor(n_neighbors= 10)\n",
    "knn.fit(x_train, y_train)\n",
    "\n",
    "# Predict and calc RMSE\n",
    "yhat = knn.predict(x_test)\n",
    "\n",
    "root_mean_squared_error(y_test, yhat)"
   ],
   "metadata": {
    "collapsed": false,
    "ExecuteTime": {
     "end_time": "2024-09-26T19:36:32.039571600Z",
     "start_time": "2024-09-26T19:36:31.648493Z"
    }
   },
   "id": "27424541a8da40a8"
  },
  {
   "cell_type": "markdown",
   "source": [
    "### Actual Test Set :)"
   ],
   "metadata": {
    "collapsed": false
   },
   "id": "8b7b0805a7d36592"
  },
  {
   "cell_type": "code",
   "execution_count": null,
   "outputs": [],
   "source": [
    "x_test = test.drop(columns = \"price\")\n",
    "x1_test = x_test[['host_is_superhost', 'latitude', 'longitude', 'accommodates', 'review_scores_rating', 'review_scores_location']]\n",
    "x1_test.loc[:, 'host_is_superhost'] = x_vars['host_is_superhost'].map({'f': 0, 't': 1})\n",
    "x1_test['host_is_superhost'].fillna(0, inplace = True)\n",
    "x_vars['review_scores_rating'].fillna(train['review_scores_rating'].median(), inplace=True)\n",
    "x_vars['review_scores_location'].fillna(train['review_scores_location'].median(), inplace=True)"
   ],
   "metadata": {
    "collapsed": false
   },
   "id": "feae72330f9ad0d9"
  }
 ],
 "metadata": {
  "kernelspec": {
   "display_name": "Python 3",
   "language": "python",
   "name": "python3"
  },
  "language_info": {
   "codemirror_mode": {
    "name": "ipython",
    "version": 2
   },
   "file_extension": ".py",
   "mimetype": "text/x-python",
   "name": "python",
   "nbconvert_exporter": "python",
   "pygments_lexer": "ipython2",
   "version": "2.7.6"
  }
 },
 "nbformat": 4,
 "nbformat_minor": 5
}
