{
 "cells": [
  {
   "cell_type": "code",
   "execution_count": 85,
   "id": "initial_id",
   "metadata": {
    "collapsed": true,
    "ExecuteTime": {
     "end_time": "2024-09-27T16:39:57.456468Z",
     "start_time": "2024-09-27T16:39:56.925324400Z"
    }
   },
   "outputs": [],
   "source": [
    "import re\n",
    "import time\n",
    "import pandas as pd\n",
    "import numpy as np\n",
    "import seaborn as sns\n",
    "from sklearn.pipeline import Pipeline\n",
    "from sklearn.impute import SimpleImputer\n",
    "from sklearn.linear_model import Lasso, LassoCV, Ridge, RidgeCV,ElasticNet, ElasticNetCV\n",
    "from sklearn.neighbors import KNeighborsRegressor\n",
    "from sklearn.preprocessing import StandardScaler, OneHotEncoder, PolynomialFeatures\n",
    "from sklearn.model_selection import train_test_split, cross_val_score, LeaveOneOut\n",
    "from sklearn.metrics import root_mean_squared_error\n",
    "from sklearn.compose import ColumnTransformer\n",
    "from sklearn.feature_selection import SelectPercentile, f_regression\n",
    "import matplotlib.pyplot as plt\n",
    "\n",
    "test = pd.read_csv('test.csv')\n",
    "train = pd.read_csv('train.csv')"
   ]
  },
  {
   "cell_type": "markdown",
   "source": [
    "### Choosing Variables"
   ],
   "metadata": {
    "collapsed": false
   },
   "id": "93fdf1a2615039dd"
  },
  {
   "cell_type": "code",
   "execution_count": 74,
   "outputs": [],
   "source": [
    "x = train.drop(columns = \"price\")\n",
    "y = train['price'] \n",
    "\n",
    "# Get numeric variables :)\n",
    "x_num = x.select_dtypes(include = 'number')\n",
    "\n",
    "# Get rid of dumb variables\n",
    "x_num = x_num.drop(columns = ['bedrooms', 'host_id'])\n",
    "\n",
    "x_num = ['host_listings_count', 'accommodates', 'number_of_reviews', 'review_scores_rating', 'review_scores_location']\n",
    "\n",
    "x_cat = ['property_type', 'neighbourhood_cleansed', 'host_is_superhost']\n",
    "\n",
    "x_full = x[['host_listings_count', 'accommodates', 'number_of_reviews', 'review_scores_rating', 'review_scores_location','property_type', 'neighbourhood_cleansed', 'host_is_superhost']]\n",
    "\n",
    "# Split training data into train/test :)\n",
    "x_train, x_test, y_train, y_test = train_test_split(x_full, y, test_size= 0.2, random_state=317)"
   ],
   "metadata": {
    "collapsed": false,
    "ExecuteTime": {
     "end_time": "2024-09-27T16:36:06.490980900Z",
     "start_time": "2024-09-27T16:36:05.084405100Z"
    }
   },
   "id": "606c950062da6175"
  },
  {
   "cell_type": "markdown",
   "source": [
    "#### PIPELINES FOR THE WIN"
   ],
   "metadata": {
    "collapsed": false
   },
   "id": "c693bd0a23c0d8ac"
  },
  {
   "cell_type": "markdown",
   "source": [
    "#### KNN Pipeline"
   ],
   "metadata": {
    "collapsed": false
   },
   "id": "3edee9358fa6902c"
  },
  {
   "cell_type": "code",
   "execution_count": 106,
   "outputs": [
    {
     "ename": "TypeError",
     "evalue": "'KNeighborsRegressor' object is not callable",
     "output_type": "error",
     "traceback": [
      "\u001B[1;31m---------------------------------------------------------------------------\u001B[0m",
      "\u001B[1;31mTypeError\u001B[0m                                 Traceback (most recent call last)",
      "Cell \u001B[1;32mIn[106], line 22\u001B[0m\n\u001B[0;32m      9\u001B[0m cat_pipe \u001B[38;5;241m=\u001B[39m Pipeline([\n\u001B[0;32m     10\u001B[0m     (\u001B[38;5;124m'\u001B[39m\u001B[38;5;124mimpute\u001B[39m\u001B[38;5;124m'\u001B[39m, SimpleImputer(strategy\u001B[38;5;241m=\u001B[39m\u001B[38;5;124m'\u001B[39m\u001B[38;5;124mmost_frequent\u001B[39m\u001B[38;5;124m'\u001B[39m)),\n\u001B[0;32m     11\u001B[0m     (\u001B[38;5;124m'\u001B[39m\u001B[38;5;124mencode\u001B[39m\u001B[38;5;124m'\u001B[39m, OneHotEncoder(sparse_output\u001B[38;5;241m=\u001B[39m \u001B[38;5;28;01mFalse\u001B[39;00m, handle_unknown\u001B[38;5;241m=\u001B[39m\u001B[38;5;124m'\u001B[39m\u001B[38;5;124mignore\u001B[39m\u001B[38;5;124m'\u001B[39m)),\n\u001B[0;32m     12\u001B[0m     (\u001B[38;5;124m'\u001B[39m\u001B[38;5;124mselect\u001B[39m\u001B[38;5;124m'\u001B[39m, SelectPercentile(f_regression, percentile \u001B[38;5;241m=\u001B[39m \u001B[38;5;241m20\u001B[39m))\n\u001B[0;32m     13\u001B[0m ])\n\u001B[0;32m     15\u001B[0m preprocessor \u001B[38;5;241m=\u001B[39m ColumnTransformer([\n\u001B[0;32m     16\u001B[0m     (\u001B[38;5;124m'\u001B[39m\u001B[38;5;124mnum\u001B[39m\u001B[38;5;124m'\u001B[39m, num_pipe, x_num),\n\u001B[0;32m     17\u001B[0m     (\u001B[38;5;124m'\u001B[39m\u001B[38;5;124mcat\u001B[39m\u001B[38;5;124m'\u001B[39m, cat_pipe, x_cat)\n\u001B[0;32m     18\u001B[0m ])\n\u001B[0;32m     20\u001B[0m pipe \u001B[38;5;241m=\u001B[39m Pipeline([\n\u001B[0;32m     21\u001B[0m     (\u001B[38;5;124m'\u001B[39m\u001B[38;5;124mpreprocessor\u001B[39m\u001B[38;5;124m'\u001B[39m, preprocessor),\n\u001B[1;32m---> 22\u001B[0m     (\u001B[38;5;124m'\u001B[39m\u001B[38;5;124mmodel\u001B[39m\u001B[38;5;124m'\u001B[39m, knn(n_neighbors\u001B[38;5;241m=\u001B[39m \u001B[38;5;241m60\u001B[39m, weights\u001B[38;5;241m=\u001B[39m\u001B[38;5;124m'\u001B[39m\u001B[38;5;124mdistance\u001B[39m\u001B[38;5;124m'\u001B[39m))\n\u001B[0;32m     23\u001B[0m ])\n\u001B[0;32m     24\u001B[0m \u001B[38;5;66;03m# Fit pipeline to training data\u001B[39;00m\n\u001B[0;32m     25\u001B[0m pipe\u001B[38;5;241m.\u001B[39mfit(x_train, y_train)\n",
      "\u001B[1;31mTypeError\u001B[0m: 'KNeighborsRegressor' object is not callable"
     ]
    }
   ],
   "source": [
    "\n",
    "# Build Pipeline\n",
    "num_pipe = Pipeline([\n",
    "    ('impute', SimpleImputer(strategy= 'mean')),\n",
    "    ('scale', StandardScaler()),\n",
    "    ('poly', PolynomialFeatures(degree=2, include_bias=False))\n",
    "])\n",
    "\n",
    "cat_pipe = Pipeline([\n",
    "    ('impute', SimpleImputer(strategy='most_frequent')),\n",
    "    ('encode', OneHotEncoder(sparse_output= False, handle_unknown='ignore')),\n",
    "    ('select', SelectPercentile(f_regression, percentile = 20))\n",
    "])\n",
    "\n",
    "preprocessor = ColumnTransformer([\n",
    "    ('num', num_pipe, x_num),\n",
    "    ('cat', cat_pipe, x_cat)\n",
    "])\n",
    "\n",
    "pipe = Pipeline([\n",
    "    ('preprocessor', preprocessor),\n",
    "    ('model', KNeighborsRegressor(n_neighbors= 60, weights='distance'))\n",
    "])\n",
    "# Fit pipeline to training data\n",
    "pipe.fit(x_train, y_train)\n",
    "\n",
    "# Report test MSE\n",
    "y_preds = pipe.predict(x_test)\n",
    "root_mean_squared_error(y_test, y_preds)"
   ],
   "metadata": {
    "collapsed": false,
    "ExecuteTime": {
     "end_time": "2024-09-27T16:51:39.734419900Z",
     "start_time": "2024-09-27T16:51:39.305850Z"
    }
   },
   "id": "9a233a33f2230c1e"
  },
  {
   "cell_type": "markdown",
   "source": [
    "#### Lasso Pipeline"
   ],
   "metadata": {
    "collapsed": false
   },
   "id": "50fccff26aae0355"
  },
  {
   "cell_type": "code",
   "execution_count": 103,
   "outputs": [
    {
     "data": {
      "text/plain": "1230.5487384321339"
     },
     "execution_count": 103,
     "metadata": {},
     "output_type": "execute_result"
    }
   ],
   "source": [
    "pipe2 = Pipeline([\n",
    "    ('preprocessor', preprocessor),\n",
    "    ('lasso', LassoCV(max_iter=10000))\n",
    "])\n",
    "# Fit pipeline to training data\n",
    "pipe2.fit(x_train, y_train)\n",
    "\n",
    "# Report test MSE\n",
    "y_preds2 = pipe2.predict(x_test)\n",
    "root_mean_squared_error(y_test, y_preds2)"
   ],
   "metadata": {
    "collapsed": false,
    "ExecuteTime": {
     "end_time": "2024-09-27T16:46:16.528085500Z",
     "start_time": "2024-09-27T16:45:56.204030900Z"
    }
   },
   "id": "5683b0df7e212332"
  },
  {
   "cell_type": "markdown",
   "source": [
    "### Actual Test Set :)"
   ],
   "metadata": {
    "collapsed": false
   },
   "id": "8b7b0805a7d36592"
  },
  {
   "cell_type": "code",
   "execution_count": 105,
   "outputs": [
    {
     "data": {
      "text/plain": "       actual  predicted KNN  predicted Lasso\n14318    68.0     118.557489        15.641288\n4116    256.0     287.271203       476.546409\n2830    260.0     330.477313       350.172476\n14841   130.0     119.534833        95.015391\n9111     65.0     108.274997       104.708808\n12196   225.0     181.320000       328.271595\n14760   316.0     267.511933      1281.818062\n3437     59.0     136.094154        19.985616\n7453    158.0     249.579302       284.473479\n9375    210.0     137.883832        45.256363\n11036   181.0     133.925774       585.364801\n2188     45.0     193.465963       377.216425\n8874     69.0     183.067904       125.637197\n10693    87.0     207.442611       265.798583\n13786    45.0      68.423592        -2.082323\n5279     79.0     137.520262       185.645916\n15106   137.0     217.598849       196.817180\n4757     60.0     147.680677        26.171746\n6517    132.0     427.457726       356.575932\n7604    300.0     293.193957       283.396683",
      "text/html": "<div>\n<style scoped>\n    .dataframe tbody tr th:only-of-type {\n        vertical-align: middle;\n    }\n\n    .dataframe tbody tr th {\n        vertical-align: top;\n    }\n\n    .dataframe thead th {\n        text-align: right;\n    }\n</style>\n<table border=\"1\" class=\"dataframe\">\n  <thead>\n    <tr style=\"text-align: right;\">\n      <th></th>\n      <th>actual</th>\n      <th>predicted KNN</th>\n      <th>predicted Lasso</th>\n    </tr>\n  </thead>\n  <tbody>\n    <tr>\n      <th>14318</th>\n      <td>68.0</td>\n      <td>118.557489</td>\n      <td>15.641288</td>\n    </tr>\n    <tr>\n      <th>4116</th>\n      <td>256.0</td>\n      <td>287.271203</td>\n      <td>476.546409</td>\n    </tr>\n    <tr>\n      <th>2830</th>\n      <td>260.0</td>\n      <td>330.477313</td>\n      <td>350.172476</td>\n    </tr>\n    <tr>\n      <th>14841</th>\n      <td>130.0</td>\n      <td>119.534833</td>\n      <td>95.015391</td>\n    </tr>\n    <tr>\n      <th>9111</th>\n      <td>65.0</td>\n      <td>108.274997</td>\n      <td>104.708808</td>\n    </tr>\n    <tr>\n      <th>12196</th>\n      <td>225.0</td>\n      <td>181.320000</td>\n      <td>328.271595</td>\n    </tr>\n    <tr>\n      <th>14760</th>\n      <td>316.0</td>\n      <td>267.511933</td>\n      <td>1281.818062</td>\n    </tr>\n    <tr>\n      <th>3437</th>\n      <td>59.0</td>\n      <td>136.094154</td>\n      <td>19.985616</td>\n    </tr>\n    <tr>\n      <th>7453</th>\n      <td>158.0</td>\n      <td>249.579302</td>\n      <td>284.473479</td>\n    </tr>\n    <tr>\n      <th>9375</th>\n      <td>210.0</td>\n      <td>137.883832</td>\n      <td>45.256363</td>\n    </tr>\n    <tr>\n      <th>11036</th>\n      <td>181.0</td>\n      <td>133.925774</td>\n      <td>585.364801</td>\n    </tr>\n    <tr>\n      <th>2188</th>\n      <td>45.0</td>\n      <td>193.465963</td>\n      <td>377.216425</td>\n    </tr>\n    <tr>\n      <th>8874</th>\n      <td>69.0</td>\n      <td>183.067904</td>\n      <td>125.637197</td>\n    </tr>\n    <tr>\n      <th>10693</th>\n      <td>87.0</td>\n      <td>207.442611</td>\n      <td>265.798583</td>\n    </tr>\n    <tr>\n      <th>13786</th>\n      <td>45.0</td>\n      <td>68.423592</td>\n      <td>-2.082323</td>\n    </tr>\n    <tr>\n      <th>5279</th>\n      <td>79.0</td>\n      <td>137.520262</td>\n      <td>185.645916</td>\n    </tr>\n    <tr>\n      <th>15106</th>\n      <td>137.0</td>\n      <td>217.598849</td>\n      <td>196.817180</td>\n    </tr>\n    <tr>\n      <th>4757</th>\n      <td>60.0</td>\n      <td>147.680677</td>\n      <td>26.171746</td>\n    </tr>\n    <tr>\n      <th>6517</th>\n      <td>132.0</td>\n      <td>427.457726</td>\n      <td>356.575932</td>\n    </tr>\n    <tr>\n      <th>7604</th>\n      <td>300.0</td>\n      <td>293.193957</td>\n      <td>283.396683</td>\n    </tr>\n  </tbody>\n</table>\n</div>"
     },
     "execution_count": 105,
     "metadata": {},
     "output_type": "execute_result"
    }
   ],
   "source": [
    "comparison_df = pd.DataFrame({\n",
    "    'actual' : y_test,\n",
    "    'predicted KNN' : y_preds,\n",
    "    'predicted Lasso' : y_preds2\n",
    "})\n",
    "\n",
    "comparison_df.head(20)"
   ],
   "metadata": {
    "collapsed": false,
    "ExecuteTime": {
     "end_time": "2024-09-27T16:46:57.288824100Z",
     "start_time": "2024-09-27T16:46:57.194265100Z"
    }
   },
   "id": "feae72330f9ad0d9"
  }
 ],
 "metadata": {
  "kernelspec": {
   "display_name": "Python 3",
   "language": "python",
   "name": "python3"
  },
  "language_info": {
   "codemirror_mode": {
    "name": "ipython",
    "version": 2
   },
   "file_extension": ".py",
   "mimetype": "text/x-python",
   "name": "python",
   "nbconvert_exporter": "python",
   "pygments_lexer": "ipython2",
   "version": "2.7.6"
  }
 },
 "nbformat": 4,
 "nbformat_minor": 5
}
