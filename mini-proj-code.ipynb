{
 "cells": [
  {
   "cell_type": "code",
   "execution_count": 7,
   "id": "initial_id",
   "metadata": {
    "collapsed": true,
    "ExecuteTime": {
     "end_time": "2024-09-27T22:32:46.173860800Z",
     "start_time": "2024-09-27T22:32:44.668869700Z"
    }
   },
   "outputs": [],
   "source": [
    "import re\n",
    "import time\n",
    "import pandas as pd\n",
    "import numpy as np\n",
    "import seaborn as sns\n",
    "from sklearn.pipeline import Pipeline\n",
    "from sklearn.impute import SimpleImputer\n",
    "from sklearn.linear_model import Lasso, LassoCV, Ridge, RidgeCV,ElasticNet, ElasticNetCV\n",
    "from sklearn.neighbors import KNeighborsRegressor\n",
    "from sklearn.preprocessing import StandardScaler, OneHotEncoder, PolynomialFeatures\n",
    "from sklearn.model_selection import train_test_split, cross_val_score, LeaveOneOut\n",
    "from sklearn.metrics import root_mean_squared_error\n",
    "from sklearn.compose import ColumnTransformer\n",
    "from sklearn.feature_selection import SelectPercentile, f_regression\n",
    "import matplotlib.pyplot as plt\n",
    "\n",
    "test = pd.read_csv('test.csv')\n",
    "train = pd.read_csv('train.csv')"
   ]
  },
  {
   "cell_type": "markdown",
   "source": [
    "### Choosing Variables"
   ],
   "metadata": {
    "collapsed": false
   },
   "id": "93fdf1a2615039dd"
  },
  {
   "cell_type": "code",
   "execution_count": 29,
   "outputs": [],
   "source": [
    "x = train.drop(columns = \"price\")\n",
    "y = train['price'] \n",
    "\n",
    "# Get numeric variables :)\n",
    "x_num = x.select_dtypes(include = 'number')\n",
    "\n",
    "# Get rid of dumb variables\n",
    "x_num = x_num.drop(columns = ['bedrooms', 'host_id'])\n",
    "\n",
    "x_nums = ['host_listings_count', 'accommodates', 'number_of_reviews', 'review_scores_rating', 'review_scores_location']\n",
    "\n",
    "x_cat = ['property_type', 'neighbourhood_cleansed', 'host_is_superhost']\n",
    "\n",
    "x_full = x[['host_listings_count', 'accommodates', 'number_of_reviews', 'review_scores_rating', 'review_scores_location','property_type', 'neighbourhood_cleansed', 'host_is_superhost']]\n",
    "\n",
    "# Split training data into train/test :)\n",
    "x_train, x_test, y_train, y_test = train_test_split(x_full, y, test_size= 0.2, random_state=317)"
   ],
   "metadata": {
    "collapsed": false,
    "ExecuteTime": {
     "end_time": "2024-09-27T22:48:47.235631600Z",
     "start_time": "2024-09-27T22:48:47.125647600Z"
    }
   },
   "id": "606c950062da6175"
  },
  {
   "cell_type": "markdown",
   "source": [
    "#### PIPELINES FOR THE WIN"
   ],
   "metadata": {
    "collapsed": false
   },
   "id": "c693bd0a23c0d8ac"
  },
  {
   "cell_type": "markdown",
   "source": [
    "#### KNN Pipeline"
   ],
   "metadata": {
    "collapsed": false
   },
   "id": "3edee9358fa6902c"
  },
  {
   "cell_type": "code",
   "execution_count": 30,
   "outputs": [
    {
     "data": {
      "text/plain": "1271.8671457994592"
     },
     "execution_count": 30,
     "metadata": {},
     "output_type": "execute_result"
    }
   ],
   "source": [
    "\n",
    "# Build Pipeline\n",
    "num_pipe = Pipeline([\n",
    "    ('impute', SimpleImputer(strategy= 'mean')),\n",
    "    ('scale', StandardScaler()),\n",
    "    ('poly', PolynomialFeatures(degree=2, include_bias=False))\n",
    "])\n",
    "\n",
    "cat_pipe = Pipeline([\n",
    "    ('impute', SimpleImputer(strategy='most_frequent')),\n",
    "    ('encode', OneHotEncoder(sparse_output= False, handle_unknown='ignore')),\n",
    "    ('select', SelectPercentile(f_regression, percentile = 20))\n",
    "])\n",
    "\n",
    "preprocessor = ColumnTransformer([\n",
    "    ('num', num_pipe, x_nums),\n",
    "    ('cat', cat_pipe, x_cat)\n",
    "])\n",
    "\n",
    "pipe = Pipeline([\n",
    "    ('preprocessor', preprocessor),\n",
    "    ('model', KNeighborsRegressor(n_neighbors= 60, weights='distance'))\n",
    "])\n",
    "# Fit pipeline to training data\n",
    "pipe.fit(x_train, y_train)\n",
    "\n",
    "# Report test MSE\n",
    "y_preds = pipe.predict(x_test)\n",
    "root_mean_squared_error(y_test, y_preds)"
   ],
   "metadata": {
    "collapsed": false,
    "ExecuteTime": {
     "end_time": "2024-09-27T22:48:51.220756900Z",
     "start_time": "2024-09-27T22:48:50.493851200Z"
    }
   },
   "id": "9a233a33f2230c1e"
  },
  {
   "cell_type": "markdown",
   "source": [
    "#### Lasso Pipeline"
   ],
   "metadata": {
    "collapsed": false
   },
   "id": "50fccff26aae0355"
  },
  {
   "cell_type": "code",
   "execution_count": 31,
   "outputs": [
    {
     "data": {
      "text/plain": "1230.5487384321339"
     },
     "execution_count": 31,
     "metadata": {},
     "output_type": "execute_result"
    }
   ],
   "source": [
    "pipe2 = Pipeline([\n",
    "    ('preprocessor', preprocessor),\n",
    "    ('lasso', LassoCV(max_iter=10000))\n",
    "])\n",
    "# Fit pipeline to training data\n",
    "pipe2.fit(x_train, y_train)\n",
    "\n",
    "# Report test MSE\n",
    "y_preds2 = pipe2.predict(x_test)\n",
    "root_mean_squared_error(y_test, y_preds2)"
   ],
   "metadata": {
    "collapsed": false,
    "ExecuteTime": {
     "end_time": "2024-09-27T22:49:12.626383900Z",
     "start_time": "2024-09-27T22:48:53.123517100Z"
    }
   },
   "id": "5683b0df7e212332"
  },
  {
   "cell_type": "markdown",
   "source": [
    "### Actual Test Set :)"
   ],
   "metadata": {
    "collapsed": false
   },
   "id": "8b7b0805a7d36592"
  },
  {
   "cell_type": "code",
   "execution_count": 32,
   "outputs": [],
   "source": [
    "test_small = test[['host_listings_count', 'accommodates', 'number_of_reviews', 'review_scores_rating', 'review_scores_location','property_type', 'neighbourhood_cleansed', 'host_is_superhost']]\n",
    "predictions = pipe2.predict(test_small)\n",
    "\n",
    "output = pd.DataFrame({\n",
    "    'Id': test[\"Id\"],\n",
    "    \"Price\": predictions\n",
    "})\n",
    "\n",
    "# Save the DataFrame to CSV\n",
    "output.to_csv('JH-predicted_prices.csv', index=False)"
   ],
   "metadata": {
    "collapsed": false,
    "ExecuteTime": {
     "end_time": "2024-09-27T22:49:17.378538Z",
     "start_time": "2024-09-27T22:49:17.269159300Z"
    }
   },
   "id": "feae72330f9ad0d9"
  }
 ],
 "metadata": {
  "kernelspec": {
   "display_name": "Python 3",
   "language": "python",
   "name": "python3"
  },
  "language_info": {
   "codemirror_mode": {
    "name": "ipython",
    "version": 2
   },
   "file_extension": ".py",
   "mimetype": "text/x-python",
   "name": "python",
   "nbconvert_exporter": "python",
   "pygments_lexer": "ipython2",
   "version": "2.7.6"
  }
 },
 "nbformat": 4,
 "nbformat_minor": 5
}
