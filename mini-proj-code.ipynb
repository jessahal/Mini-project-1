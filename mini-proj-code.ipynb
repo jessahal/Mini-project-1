{
 "cells": [
  {
   "cell_type": "code",
   "execution_count": 6,
   "id": "initial_id",
   "metadata": {
    "collapsed": true,
    "ExecuteTime": {
     "end_time": "2024-09-27T02:54:51.317296600Z",
     "start_time": "2024-09-27T02:54:50.749899800Z"
    }
   },
   "outputs": [],
   "source": [
    "import re\n",
    "import time\n",
    "import pandas as pd\n",
    "import numpy as np\n",
    "from sklearn.pipeline import Pipeline\n",
    "from sklearn.impute import SimpleImputer\n",
    "from sklearn.linear_model import Lasso, LassoCV, Ridge, RidgeCV,ElasticNet, ElasticNetCV\n",
    "from sklearn.neighbors import KNeighborsRegressor\n",
    "from sklearn.preprocessing import StandardScaler, PolynomialFeatures\n",
    "from sklearn.model_selection import train_test_split, cross_val_score, LeaveOneOut\n",
    "from sklearn.metrics import root_mean_squared_error\n",
    "from sklearn.feature_selection import SelectKBest, f_regression\n",
    "import matplotlib.pyplot as plt\n",
    "\n",
    "test = pd.read_csv('test.csv')\n",
    "train = pd.read_csv('train.csv')"
   ]
  },
  {
   "cell_type": "markdown",
   "source": [
    "### EDA "
   ],
   "metadata": {
    "collapsed": false
   },
   "id": "93fdf1a2615039dd"
  },
  {
   "cell_type": "code",
   "execution_count": 7,
   "outputs": [],
   "source": [
    "x = train.drop(columns = \"price\")\n",
    "y = train['price'] \n",
    "\n",
    "# Get numeric variables :)\n",
    "x_num = x.select_dtypes(include = 'number')\n",
    "\n",
    "# Get rid of bedrooms cause it's a dumb variable\n",
    "x_num = x_num.drop(columns = 'bedrooms')\n",
    "\n",
    "# Got just the unit id\n",
    "ids = train['Id']\n",
    "\n",
    "# Split training data into train/test :)\n",
    "x_train, x_test, y_train, y_test = train_test_split(x_num, y, test_size= 0.2, random_state=317)"
   ],
   "metadata": {
    "collapsed": false,
    "ExecuteTime": {
     "end_time": "2024-09-27T02:54:58.664724500Z",
     "start_time": "2024-09-27T02:54:58.587033800Z"
    }
   },
   "id": "606c950062da6175"
  },
  {
   "cell_type": "markdown",
   "source": [
    "#### PIPELINES FOR THE WIN"
   ],
   "metadata": {
    "collapsed": false
   },
   "id": "c693bd0a23c0d8ac"
  },
  {
   "cell_type": "code",
   "execution_count": 28,
   "outputs": [
    {
     "data": {
      "text/plain": "1261.3373567780138"
     },
     "execution_count": 28,
     "metadata": {},
     "output_type": "execute_result"
    }
   ],
   "source": [
    "# Build Pipeline\n",
    "pipe = Pipeline([\n",
    "    ('impute', SimpleImputer(strategy= 'mean')),\n",
    "    ('scale', StandardScaler()),\n",
    "    ('en', ElasticNetCV(l1_ratio=.75))\n",
    "])\n",
    "\n",
    "# Fit pipeline to training data\n",
    "pipe.fit(x_train, y_train)\n",
    "\n",
    "# Report test MSE\n",
    "y_preds = pipe.predict(x_test)\n",
    "root_mean_squared_error(y_test, y_preds)"
   ],
   "metadata": {
    "collapsed": false,
    "ExecuteTime": {
     "end_time": "2024-09-27T03:02:17.032349700Z",
     "start_time": "2024-09-27T03:02:16.457250300Z"
    }
   },
   "id": "9a233a33f2230c1e"
  },
  {
   "cell_type": "code",
   "execution_count": 34,
   "outputs": [
    {
     "data": {
      "text/plain": "1256.7135790682428"
     },
     "execution_count": 34,
     "metadata": {},
     "output_type": "execute_result"
    }
   ],
   "source": [
    "# Fit KNN regression with k = 10\n",
    "knn = KNeighborsRegressor(n_neighbors= 30)\n",
    "pipe2 = Pipeline([\n",
    "    ('impute', SimpleImputer(strategy= 'mean')),\n",
    "    ('scale', StandardScaler()),\n",
    "    ('model', knn)\n",
    "])\n",
    "\n",
    "# Fit pipeline to training data\n",
    "pipe2.fit(x_train, y_train)\n",
    "\n",
    "# Report test MSE\n",
    "y_preds2 = pipe2.predict(x_test)\n",
    "root_mean_squared_error(y_test, y_preds2)"
   ],
   "metadata": {
    "collapsed": false,
    "ExecuteTime": {
     "end_time": "2024-09-27T03:05:25.672560500Z",
     "start_time": "2024-09-27T03:05:25.386731300Z"
    }
   },
   "id": "5683b0df7e212332"
  },
  {
   "cell_type": "markdown",
   "source": [
    "### Actual Test Set :)"
   ],
   "metadata": {
    "collapsed": false
   },
   "id": "8b7b0805a7d36592"
  },
  {
   "cell_type": "code",
   "execution_count": 3,
   "outputs": [],
   "source": [],
   "metadata": {
    "collapsed": false,
    "ExecuteTime": {
     "end_time": "2024-09-27T02:50:10.664992600Z",
     "start_time": "2024-09-27T02:50:10.656164300Z"
    }
   },
   "id": "feae72330f9ad0d9"
  }
 ],
 "metadata": {
  "kernelspec": {
   "display_name": "Python 3",
   "language": "python",
   "name": "python3"
  },
  "language_info": {
   "codemirror_mode": {
    "name": "ipython",
    "version": 2
   },
   "file_extension": ".py",
   "mimetype": "text/x-python",
   "name": "python",
   "nbconvert_exporter": "python",
   "pygments_lexer": "ipython2",
   "version": "2.7.6"
  }
 },
 "nbformat": 4,
 "nbformat_minor": 5
}
